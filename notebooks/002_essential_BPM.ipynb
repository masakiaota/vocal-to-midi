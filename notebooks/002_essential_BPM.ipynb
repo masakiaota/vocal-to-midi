{
 "cells": [
  {
   "cell_type": "markdown",
   "id": "99435759-49f9-4e81-b2af-04a4224f6c70",
   "metadata": {},
   "source": [
    "BPM推定のお試し\n",
    "https://essentia.upf.edu/tutorial_rhythm_beatdetection.html"
   ]
  },
  {
   "cell_type": "code",
   "execution_count": null,
   "id": "566d0805-495f-4f75-82f2-d22cd7c217cb",
   "metadata": {
    "tags": []
   },
   "outputs": [],
   "source": [
    "from IPython.display import Audio\n",
    "import essentia.standard as es\n",
    "import numpy as np\n",
    "import matplotlib.pyplot as plt\n",
    "%matplotlib inline"
   ]
  },
  {
   "cell_type": "code",
   "execution_count": null,
   "id": "3258d18c-0d1e-4089-b631-da31ef411b16",
   "metadata": {},
   "outputs": [],
   "source": []
  },
  {
   "cell_type": "code",
   "execution_count": null,
   "id": "89ec8111-721a-424d-adf6-8dfca6c62284",
   "metadata": {
    "tags": []
   },
   "outputs": [],
   "source": [
    "# Loading an audio file.\n",
    "audio = es.MonoLoader(filename='../data/shining_star_short.mp3')()"
   ]
  },
  {
   "cell_type": "code",
   "execution_count": null,
   "id": "8ce64061-9f60-44ab-94f4-a4d26d0ad6a3",
   "metadata": {
    "tags": []
   },
   "outputs": [],
   "source": [
    "audio"
   ]
  },
  {
   "cell_type": "code",
   "execution_count": null,
   "id": "c43bf08d-8ae7-4f84-9f7d-bf5c5d46d428",
   "metadata": {
    "tags": []
   },
   "outputs": [],
   "source": [
    "rhythm_extractor = es.RhythmExtractor2013(method=\"multifeature\")\n",
    "bpm, beats, beats_confidence, estimates, beats_intervals = rhythm_extractor(audio)\n",
    "\n",
    "print(\"BPM:\", bpm)\n",
    "print(\"Beat positions (sec.):\", beats)\n",
    "print(\"Beat estimation confidence:\", beats_confidence)"
   ]
  },
  {
   "cell_type": "code",
   "execution_count": null,
   "id": "b08f9396-b6c0-429a-8a8b-506d70ef35a1",
   "metadata": {
    "tags": []
   },
   "outputs": [],
   "source": [
    "np.mean(estimates)"
   ]
  },
  {
   "cell_type": "code",
   "execution_count": null,
   "id": "eb7f4d28-20a4-43b5-9d7b-18060f237452",
   "metadata": {},
   "outputs": [],
   "source": []
  },
  {
   "cell_type": "markdown",
   "id": "0f1daf1c-bf22-4497-8788-85695f30eb73",
   "metadata": {},
   "source": [
    "### BPM histogram"
   ]
  },
  {
   "cell_type": "code",
   "execution_count": null,
   "id": "64c10414-3594-40e7-bb04-9c082840ae56",
   "metadata": {
    "tags": []
   },
   "outputs": [],
   "source": [
    "peak1_bpm, peak1_weight, peak1_spread, peak2_bpm, peak2_weight, peak2_spread, histogram = \\\n",
    "    es.BpmHistogramDescriptors()(beats_intervals)\n",
    "\n",
    "print(f\"Overall BPM (estimated before): {bpm}\")\n",
    "print(f\"First histogram peak: {peak1_bpm} bpm\") # +1 すると正しいbpmになりがち...? 切り捨て処理がされてそう\n",
    "print(f\"Second histogram peak: {peak2_bpm} bpm\")\n",
    "\n",
    "fig, ax = plt.subplots()\n",
    "ax.bar(range(len(histogram)), histogram, width=1)\n",
    "ax.set_xlabel('BPM')\n",
    "ax.set_ylabel('Frequency of occurrence')\n",
    "plt.title(\"BPM histogram\")\n",
    "plt.xlim([40,220])\n",
    "ax.set_xticks([20 * x + 0.5 for x in range(2,int(len(histogram) / 20))])\n",
    "ax.set_xticklabels([str(20 * x) for x in range(2,int(len(histogram) / 20))])\n",
    "plt.show()"
   ]
  },
  {
   "cell_type": "code",
   "execution_count": null,
   "id": "bb4b6e04-0cf0-4155-a973-c13067fece41",
   "metadata": {
    "tags": []
   },
   "outputs": [],
   "source": []
  },
  {
   "cell_type": "code",
   "execution_count": null,
   "id": "b4e19085-b34a-4856-8d10-1fa0fe3feb3e",
   "metadata": {},
   "outputs": [],
   "source": []
  },
  {
   "cell_type": "markdown",
   "id": "af59899c-16e4-409e-94e4-0c68d62f17a8",
   "metadata": {},
   "source": [
    "### PercivalBpmEstimator is another algorithm for tempo estimation."
   ]
  },
  {
   "cell_type": "code",
   "execution_count": null,
   "id": "b7d2c793-3dd7-4e84-9fd7-87edeba5741f",
   "metadata": {
    "tags": []
   },
   "outputs": [],
   "source": [
    "# Compute BPM.\n",
    "bpm = es.PercivalBpmEstimator()(audio)\n",
    "\n",
    "print(\"BPM:\", bpm)\n"
   ]
  },
  {
   "cell_type": "code",
   "execution_count": null,
   "id": "d0f8c40d-bf19-4bfc-bc39-e06bc35b04c9",
   "metadata": {},
   "outputs": [],
   "source": []
  },
  {
   "cell_type": "code",
   "execution_count": null,
   "id": "a9dad98f-fd75-4600-9f05-a10bac3d587e",
   "metadata": {},
   "outputs": [],
   "source": []
  }
 ],
 "metadata": {
  "kernelspec": {
   "display_name": "Python 3 (ipykernel)",
   "language": "python",
   "name": "python3"
  },
  "language_info": {
   "codemirror_mode": {
    "name": "ipython",
    "version": 3
   },
   "file_extension": ".py",
   "mimetype": "text/x-python",
   "name": "python",
   "nbconvert_exporter": "python",
   "pygments_lexer": "ipython3",
   "version": "3.8.10"
  }
 },
 "nbformat": 4,
 "nbformat_minor": 5
}
