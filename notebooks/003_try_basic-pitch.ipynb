{
 "cells": [
  {
   "cell_type": "code",
   "execution_count": null,
   "id": "4e3e2163-4ec9-4e7c-b044-b7fe3bfce3e4",
   "metadata": {
    "tags": []
   },
   "outputs": [],
   "source": [
    "import shutil\n",
    "import subprocess\n",
    "from pathlib import Path\n",
    "from IPython.display import Audio\n",
    "from basic_pitch.inference import predict_and_save"
   ]
  },
  {
   "cell_type": "markdown",
   "id": "fc8425d2-97a9-4b2f-a2b7-4cb608c165fd",
   "metadata": {},
   "source": [
    "### 入力の作成"
   ]
  },
  {
   "cell_type": "code",
   "execution_count": null,
   "id": "1526ed7d-71fb-4ad4-bc48-34525e4dd452",
   "metadata": {
    "tags": []
   },
   "outputs": [],
   "source": [
    "song_path=Path(\"../data/shining_star_short_vocals.mp3\")\n",
    "Audio(song_path)"
   ]
  },
  {
   "cell_type": "code",
   "execution_count": null,
   "id": "348b5b46-0ce6-44b4-92a7-29e4498b2e91",
   "metadata": {
    "tags": []
   },
   "outputs": [],
   "source": [
    "class CFG:\n",
    "    song_name = song_path.stem\n",
    "    input_file = song_path.resolve().as_posix() #path traversalされそうな気がするがどうしたら\n",
    "    output_dir = \"../outputs/basic-pitch/\"+song_path.stem+\"/\"\n",
    "\n",
    "cfg = CFG()"
   ]
  },
  {
   "cell_type": "code",
   "execution_count": null,
   "id": "ed6937f8-7e20-4b3d-9f3b-e542c3c4641f",
   "metadata": {
    "tags": []
   },
   "outputs": [],
   "source": [
    "def make_dir(path: Path)->None:\n",
    "    '''make directory if not exists. if exists, delete and remake.'''\n",
    "    if path.exists():\n",
    "        shutil.rmtree(path)\n",
    "    path.mkdir(parents=True)\n",
    "make_dir(Path(cfg.output_dir))"
   ]
  },
  {
   "cell_type": "markdown",
   "id": "f4107e8b-4f30-4c57-bec0-be94a5dd31db",
   "metadata": {},
   "source": [
    "### 推論"
   ]
  },
  {
   "cell_type": "code",
   "execution_count": null,
   "id": "48fbb4e6-4688-47e4-8174-e2a91edd8b64",
   "metadata": {
    "tags": []
   },
   "outputs": [],
   "source": [
    "basic_pitch_settings={\n",
    "    \"audio_path_list\":[cfg.input_file],\n",
    "    \"output_directory\":cfg.output_dir,\n",
    "    \"save_midi\":True,\n",
    "    \"sonify_midi\":True,\n",
    "    \"save_model_outputs\":False,\n",
    "    \"save_notes\":False,\n",
    "    \"onset_threshold\":0.6,\n",
    "    \"frame_threshold\":0.4,\n",
    "    \"minimum_note_length\":40,\n",
    "    \"minimum_frequency\":100,\n",
    "    \"maximum_frequency\":1000,\n",
    "    \"melodia_trick\":True,\n",
    "    \"midi_tempo\":158\n",
    "}"
   ]
  },
  {
   "cell_type": "code",
   "execution_count": null,
   "id": "8394c95f-6550-441d-bd12-ee7b29b41cdd",
   "metadata": {
    "tags": []
   },
   "outputs": [],
   "source": [
    "predict_and_save(**basic_pitch_settings)"
   ]
  },
  {
   "cell_type": "code",
   "execution_count": null,
   "id": "946f0894-4fa2-4b7e-9493-926fd16e8f91",
   "metadata": {},
   "outputs": [],
   "source": []
  },
  {
   "cell_type": "markdown",
   "id": "4c2768de-833d-4e3b-8eeb-092774f518a7",
   "metadata": {},
   "source": [
    "### midiの可視化"
   ]
  },
  {
   "cell_type": "code",
   "execution_count": null,
   "id": "dbf9662a-7657-415d-a018-0eea5b908a97",
   "metadata": {
    "tags": []
   },
   "outputs": [],
   "source": [
    "wav_path"
   ]
  },
  {
   "cell_type": "code",
   "execution_count": null,
   "id": "286054e4-4be1-45cf-b3dd-2b162e1259b6",
   "metadata": {},
   "outputs": [],
   "source": [
    "wav_path=Path(cfg.output_dir)/\"shining_star_short_vocals_basic_pitch.wav\""
   ]
  },
  {
   "cell_type": "code",
   "execution_count": null,
   "id": "0daa8697-4d08-4687-8547-8381b412c138",
   "metadata": {
    "tags": []
   },
   "outputs": [],
   "source": [
    "! ffmpeg -i '../outputs/basic-pitch/shining_star_short_vocals/shining_star_short_vocals_basic_pitch.wav' '../outputs/basic-pitch/shining_star_short_vocals/shining_star_short_vocals_basic_pitch.mp3'"
   ]
  },
  {
   "cell_type": "code",
   "execution_count": null,
   "id": "16569eec-de87-4ace-9c05-fa397134adc9",
   "metadata": {},
   "outputs": [],
   "source": [
    "Audio('../outputs/basic-pitch/shining_star_short_vocals/shining_star_short_vocals_basic_pitch.mp3')"
   ]
  },
  {
   "cell_type": "code",
   "execution_count": null,
   "id": "73bc99ba-f34c-4247-9b24-ca787b0a2a7d",
   "metadata": {},
   "outputs": [],
   "source": [
    "# 良い可視化ないのかなぁ"
   ]
  },
  {
   "cell_type": "code",
   "execution_count": null,
   "id": "b74bf2d5-4337-4fad-a545-c60a77b98155",
   "metadata": {},
   "outputs": [],
   "source": []
  }
 ],
 "metadata": {
  "kernelspec": {
   "display_name": "Python 3 (ipykernel)",
   "language": "python",
   "name": "python3"
  },
  "language_info": {
   "codemirror_mode": {
    "name": "ipython",
    "version": 3
   },
   "file_extension": ".py",
   "mimetype": "text/x-python",
   "name": "python",
   "nbconvert_exporter": "python",
   "pygments_lexer": "ipython3",
   "version": "3.8.10"
  }
 },
 "nbformat": 4,
 "nbformat_minor": 5
}
