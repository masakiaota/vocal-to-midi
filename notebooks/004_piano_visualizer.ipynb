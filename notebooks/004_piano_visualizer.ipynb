{
 "cells": [
  {
   "cell_type": "code",
   "execution_count": 3,
   "id": "834401e6-8e19-47c3-bc57-aab96944edb7",
   "metadata": {
    "tags": []
   },
   "outputs": [
    {
     "name": "stdout",
     "output_type": "stream",
     "text": [
      "Parsing midis...\n",
      "Piano 1 done\n",
      "All pianos done.\n",
      "--------------------------------------------------\n",
      "Exporting video:\n",
      "  Resolution: 1920 by 1080\n",
      "  FPS: 30\n",
      "  Frames: 1668\n",
      "  Duration: 55 secs\n",
      "\n",
      "Exporting 417 on each of 4 cores...\n"
     ]
    },
    {
     "name": "stderr",
     "output_type": "stream",
     "text": [
      "OpenCV: FFMPEG: tag 0x4745504d/'MPEG' is not supported with codec id 2 and format 'mp4 / MP4 (MPEG-4 Part 14)'\n",
      "OpenCV: FFMPEG: fallback to use tag 0x7634706d/'mp4v'\n",
      "OpenCV: FFMPEG: tag 0x4745504d/'MPEG' is not supported with codec id 2 and format 'mp4 / MP4 (MPEG-4 Part 14)'\n",
      "OpenCV: FFMPEG: fallback to use tag 0x7634706d/'mp4v'\n",
      "OpenCV: FFMPEG: tag 0x4745504d/'MPEG' is not supported with codec id 2 and format 'mp4 / MP4 (MPEG-4 Part 14)'\n",
      "OpenCV: FFMPEG: fallback to use tag 0x7634706d/'mp4v'\n",
      "OpenCV: FFMPEG: tag 0x4745504d/'MPEG' is not supported with codec id 2 and format 'mp4 / MP4 (MPEG-4 Part 14)'\n",
      "OpenCV: FFMPEG: fallback to use tag 0x7634706d/'mp4v'\n",
      "OpenCV: FFMPEG: tag 0x4745504d/'MPEG' is not supported with codec id 2 and format 'mp4 / MP4 (MPEG-4 Part 14)'\n",
      "OpenCV: FFMPEG: fallback to use tag 0x7634706d/'mp4v'\n",
      "Exporting: 100%|███████████████████████████████████████████████████████████████████████████████████████| 1668/1668 [00:24<00:00, 68.46frames/s]\n",
      "Concatenating: 100%|██████████████████████████████████████████████████████████████████████████████████| 1672/1672 [00:15<00:00, 111.13frames/s]\n",
      "sh: 1: timidity: not found\n",
      "You might not have timidity installed on your machine.\n",
      "Please have that installed if you are using the midi files as audio.\n",
      "ffmpeg version 4.4.2-0ubuntu0.22.04.1 Copyright (c) 2000-2021 the FFmpeg developers\n",
      "  built with gcc 11 (Ubuntu 11.2.0-19ubuntu1)\n",
      "  configuration: --prefix=/usr --extra-version=0ubuntu0.22.04.1 --toolchain=hardened --libdir=/usr/lib/x86_64-linux-gnu --incdir=/usr/include/x86_64-linux-gnu --arch=amd64 --enable-gpl --disable-stripping --enable-gnutls --enable-ladspa --enable-libaom --enable-libass --enable-libbluray --enable-libbs2b --enable-libcaca --enable-libcdio --enable-libcodec2 --enable-libdav1d --enable-libflite --enable-libfontconfig --enable-libfreetype --enable-libfribidi --enable-libgme --enable-libgsm --enable-libjack --enable-libmp3lame --enable-libmysofa --enable-libopenjpeg --enable-libopenmpt --enable-libopus --enable-libpulse --enable-librabbitmq --enable-librubberband --enable-libshine --enable-libsnappy --enable-libsoxr --enable-libspeex --enable-libsrt --enable-libssh --enable-libtheora --enable-libtwolame --enable-libvidstab --enable-libvorbis --enable-libvpx --enable-libwebp --enable-libx265 --enable-libxml2 --enable-libxvid --enable-libzimg --enable-libzmq --enable-libzvbi --enable-lv2 --enable-omx --enable-openal --enable-opencl --enable-opengl --enable-sdl2 --enable-pocketsphinx --enable-librsvg --enable-libmfx --enable-libdc1394 --enable-libdrm --enable-libiec61883 --enable-chromaprint --enable-frei0r --enable-libx264 --enable-shared\n",
      "  libavutil      56. 70.100 / 56. 70.100\n",
      "  libavcodec     58.134.100 / 58.134.100\n",
      "  libavformat    58. 76.100 / 58. 76.100\n",
      "  libavdevice    58. 13.100 / 58. 13.100\n",
      "  libavfilter     7.110.100 /  7.110.100\n",
      "  libswscale      5.  9.100 /  5.  9.100\n",
      "  libswresample   3.  9.100 /  3.  9.100\n",
      "  libpostproc    55.  9.100 / 55.  9.100\n",
      "Input #0, mov,mp4,m4a,3gp,3g2,mj2, from '/home/masaki/vocal-to-midi/.venv/lib/python3.8/site-packages/piano_visualizer/export/video.mp4':\n",
      "  Metadata:\n",
      "    major_brand     : isom\n",
      "    minor_version   : 512\n",
      "    compatible_brands: isomiso2mp41\n",
      "    encoder         : Lavf59.27.100\n",
      "  Duration: 00:00:55.73, start: 0.000000, bitrate: 2627 kb/s\n",
      "  Stream #0:0(und): Video: mpeg2video (Main) (mp4v / 0x7634706D), yuv420p(tv), 1920x1080 [SAR 1:1 DAR 16:9], 2625 kb/s, 30 fps, 30 tbr, 15360 tbn, 60 tbc (default)\n",
      "    Metadata:\n",
      "      handler_name    : VideoHandler\n",
      "      vendor_id       : [0][0][0][0]\n",
      "      encoder         : XDCAM EX 1080p30\n",
      "    Side data:\n",
      "      cpb: bitrate max/min/avg: 0/0/0 buffer size: 35389440 vbv_delay: N/A\n",
      "Guessed Channel Layout for Input Stream #1.0 : mono\n",
      "Input #1, wav, from '/home/masaki/vocal-to-midi/.venv/lib/python3.8/site-packages/piano_visualizer/export/piano.wav':\n",
      "  Duration: 00:00:55.64, bitrate: 176 kb/s\n",
      "  Stream #1:0: Audio: pcm_s16le ([1][0][0][0] / 0x0001), 11024 Hz, mono, s16, 176 kb/s\n",
      "Stream mapping:\n",
      "  Stream #0:0 -> #0:0 (copy)\n",
      "  Stream #1:0 -> #0:1 (pcm_s16le (native) -> aac (native))\n",
      "Press [q] to stop, [?] for help\n",
      "[aac @ 0x55b15838bb40] Too many bits 6408.707483 > 6144 per frame requested, clamping to max\n",
      "Output #0, mp4, to 'test.mp4':\n",
      "  Metadata:\n",
      "    major_brand     : isom\n",
      "    minor_version   : 512\n",
      "    compatible_brands: isomiso2mp41\n",
      "    encoder         : Lavf58.76.100\n",
      "  Stream #0:0(und): Video: mpeg2video (Main) (mp4v / 0x7634706D), yuv420p(tv), 1920x1080 [SAR 1:1 DAR 16:9], q=2-31, 2625 kb/s, 30 fps, 30 tbr, 15360 tbn, 15360 tbc (default)\n",
      "    Metadata:\n",
      "      handler_name    : VideoHandler\n",
      "      vendor_id       : [0][0][0][0]\n",
      "      encoder         : XDCAM EX 1080p30\n",
      "    Side data:\n",
      "      cpb: bitrate max/min/avg: 0/0/0 buffer size: 35389440 vbv_delay: N/A\n",
      "  Stream #0:1: Audio: aac (LC) (mp4a / 0x6134706D), 11025 Hz, mono, fltp, 66 kb/s\n",
      "    Metadata:\n",
      "      encoder         : Lavc58.134.100 aac\n",
      "frame=    0 fps=0.0 q=-1.0 size=       0kB time=00:00:00.00 bitrate=N/A speed=   0x    \r"
     ]
    },
    {
     "name": "stdout",
     "output_type": "stream",
     "text": [
      "Finished in 39.987 seconds.\n",
      "Releasing video...\n",
      "Creating music...\n",
      "Created music.\n",
      "Combining all audios into 1...\n",
      "Done\n",
      "Compiling video\n",
      "Video Done\n",
      "Cleaning up...\n",
      "Finished exporting video in 0.0 mins and 40.099 secs.\n",
      "--------------------------------------------------\n"
     ]
    },
    {
     "name": "stderr",
     "output_type": "stream",
     "text": [
      "frame= 1672 fps=0.0 q=-1.0 Lsize=   17890kB time=00:00:55.66 bitrate=2632.8kbits/s speed=1.25e+03x    \n",
      "video:17861kB audio:2kB subtitle:0kB other streams:0kB global headers:0kB muxing overhead: 0.152510%\n",
      "[aac @ 0x55b15838bb40] Qavg: 65536.000\n"
     ]
    }
   ],
   "source": [
    "# Import the library after you have installed it\n",
    "import piano_visualizer\n",
    "\n",
    "# Create a piano with a midi file(s)\n",
    "piano = piano_visualizer.Piano([\"../outputs/basic-pitch/shining_star_short_vocals/shining_star_short_vocals_basic_pitch.mid\"])\n",
    "\n",
    "# Create a video with resolution/fps\n",
    "video = piano_visualizer.Video()\n",
    "\n",
    "# Add piano to video\n",
    "video.add_piano(piano)\n",
    "\n",
    "# Export video on multiple cores (1 for single)\n",
    "video.export(\"test.mp4\", 4, notify=False)"
   ]
  },
  {
   "cell_type": "code",
   "execution_count": 2,
   "id": "aadee5fa-0544-4d7f-99e7-338914678529",
   "metadata": {
    "tags": []
   },
   "outputs": [],
   "source": [
    "# 壊れてて動かない..."
   ]
  },
  {
   "cell_type": "code",
   "execution_count": null,
   "id": "0b1edf62-b525-47ff-bc30-a0889a910b36",
   "metadata": {},
   "outputs": [],
   "source": []
  }
 ],
 "metadata": {
  "kernelspec": {
   "display_name": "Python 3 (ipykernel)",
   "language": "python",
   "name": "python3"
  },
  "language_info": {
   "codemirror_mode": {
    "name": "ipython",
    "version": 3
   },
   "file_extension": ".py",
   "mimetype": "text/x-python",
   "name": "python",
   "nbconvert_exporter": "python",
   "pygments_lexer": "ipython3",
   "version": "3.8.10"
  }
 },
 "nbformat": 4,
 "nbformat_minor": 5
}
